{
 "cells": [
  {
   "cell_type": "code",
   "execution_count": 1,
   "id": "f96a8b6b-43e6-4e31-980e-68f1ec89d144",
   "metadata": {},
   "outputs": [],
   "source": [
    "import pandas as pd"
   ]
  },
  {
   "cell_type": "code",
   "execution_count": 2,
   "id": "1242ec66-6f45-4ca5-be9b-766d69838a30",
   "metadata": {},
   "outputs": [],
   "source": [
    "t1 = pd.read_csv(\"submit20.csv\")\n",
    "t2 = pd.read_csv(\"submit21.csv\")\n",
    "t3 = pd.read_csv(\"submit22.csv\")\n",
    "t4 = pd.read_csv(\"submit23.csv\")\n",
    "t5 = pd.read_csv(\"submit24.csv\")"
   ]
  },
  {
   "cell_type": "code",
   "execution_count": 3,
   "id": "de01f437-5895-4049-958b-d6d01ba22364",
   "metadata": {
    "tags": []
   },
   "outputs": [
    {
     "data": {
      "text/plain": [
       "(          ID  label\n",
       " 0      50000      2\n",
       " 1      50001      1\n",
       " 2      50002      2\n",
       " 3      50003      4\n",
       " 4      50004      9\n",
       " ...      ...    ...\n",
       " 39995  89995      3\n",
       " 39996  89996      4\n",
       " 39997  89997      4\n",
       " 39998  89998      7\n",
       " 39999  89999      7\n",
       " \n",
       " [40000 rows x 2 columns],\n",
       "           ID  label\n",
       " 0      50000      5\n",
       " 1      50001      1\n",
       " 2      50002      2\n",
       " 3      50003      4\n",
       " 4      50004      9\n",
       " ...      ...    ...\n",
       " 39995  89995      1\n",
       " 39996  89996      4\n",
       " 39997  89997      4\n",
       " 39998  89998      1\n",
       " 39999  89999      7\n",
       " \n",
       " [40000 rows x 2 columns],\n",
       "           ID  label\n",
       " 0      50000      2\n",
       " 1      50001      7\n",
       " 2      50002      2\n",
       " 3      50003      4\n",
       " 4      50004      9\n",
       " ...      ...    ...\n",
       " 39995  89995      1\n",
       " 39996  89996      4\n",
       " 39997  89997      4\n",
       " 39998  89998      7\n",
       " 39999  89999      7\n",
       " \n",
       " [40000 rows x 2 columns],\n",
       "           ID  label\n",
       " 0      50000      2\n",
       " 1      50001      7\n",
       " 2      50002      2\n",
       " 3      50003      4\n",
       " 4      50004      9\n",
       " ...      ...    ...\n",
       " 39995  89995      1\n",
       " 39996  89996      4\n",
       " 39997  89997      4\n",
       " 39998  89998      7\n",
       " 39999  89999      7\n",
       " \n",
       " [40000 rows x 2 columns],\n",
       "           ID  label\n",
       " 0      50000      3\n",
       " 1      50001      7\n",
       " 2      50002      2\n",
       " 3      50003      4\n",
       " 4      50004      9\n",
       " ...      ...    ...\n",
       " 39995  89995      1\n",
       " 39996  89996      4\n",
       " 39997  89997      4\n",
       " 39998  89998      7\n",
       " 39999  89999      7\n",
       " \n",
       " [40000 rows x 2 columns])"
      ]
     },
     "execution_count": 3,
     "metadata": {},
     "output_type": "execute_result"
    }
   ],
   "source": [
    "t1, t2, t3, t4, t5"
   ]
  },
  {
   "cell_type": "code",
   "execution_count": 4,
   "id": "8d05e5cf-8201-4ed2-8f3d-2cb674448d3f",
   "metadata": {
    "tags": []
   },
   "outputs": [
    {
     "name": "stdout",
     "output_type": "stream",
     "text": [
      "40000\n"
     ]
    }
   ],
   "source": [
    "import operator\n",
    "result = []\n",
    "for q,w,e,r,t in zip(t1['label'],t2['label'],t3['label'],t4['label'],t5['label']):\n",
    "    \n",
    "    d = dict()\n",
    "    d[q]=0; d[w]=0; d[e]=0;d[r]=0;d[t]=0\n",
    "    d[q]+=1; d[w]+=1; d[e]+=1;d[r]+=1;d[t]+=1\n",
    "    # print(d.__len__())\n",
    "    \n",
    "    \n",
    "    if d.__len__() == 1:\n",
    "        # print(d)\n",
    "        # print(q)\n",
    "        result.append(q)\n",
    "        # pass\n",
    "    elif d.__len__() == 2: #4,1 // 3,2\n",
    "        # print(d)\n",
    "        # print(sorted(d.items(), key=operator.itemgetter(1))[1][0])\n",
    "        result.append(sorted(d.items(), key=operator.itemgetter(1))[-1][0])\n",
    "        # pass\n",
    "    elif d.__len__() == 3:\n",
    "        # print(d)\n",
    "        # print(sorted(d.items(), key=operator.itemgetter(1))[-1][0])\n",
    "        result.append(sorted(d.items(), key=operator.itemgetter(1))[-1][0])\n",
    "        # pass\n",
    "        \n",
    "    elif d.__len__() == 4:\n",
    "        # print(d)\n",
    "        result.append(sorted(d.items(), key=operator.itemgetter(1))[-1][0])\n",
    "        # print(sorted(d.items(), key=operator.itemgetter(1))[-1][0])\n",
    "        # pass\n",
    "    elif d.__len__() == 5:\n",
    "        # print(d)\n",
    "        # # pass\n",
    "        pass\n",
    "    \n",
    "              \n",
    "        # print(d.values())\n",
    "#         111 22 -> {1,2}\n",
    "#         1111 2 -> {1,2}\n",
    "        \n",
    "    \n",
    "#     print(q,w,e,r,t)\n",
    "print(result.__len__())"
   ]
  },
  {
   "cell_type": "code",
   "execution_count": 5,
   "id": "77f8c07c-d764-4cdd-8821-d156608c11f7",
   "metadata": {},
   "outputs": [],
   "source": [
    "for idx in range(t1['label'].shape[0]):\n",
    "    t1['label'][idx] = result[idx]"
   ]
  },
  {
   "cell_type": "code",
   "execution_count": 6,
   "id": "7ea112a0-fa43-4d1c-9385-0754485f9e8c",
   "metadata": {},
   "outputs": [],
   "source": [
    "t1.to_csv(\"Ensemble1.csv\", index=  False)"
   ]
  },
  {
   "cell_type": "code",
   "execution_count": null,
   "id": "d1dd2964-def4-42a3-88d6-ab9e01840fc0",
   "metadata": {},
   "outputs": [],
   "source": []
  },
  {
   "cell_type": "code",
   "execution_count": null,
   "id": "b3b1af32-a389-40d1-845d-5b20d61934a0",
   "metadata": {},
   "outputs": [],
   "source": []
  }
 ],
 "metadata": {
  "kernelspec": {
   "display_name": "pytorch1",
   "language": "python",
   "name": "pytorch1"
  },
  "language_info": {
   "codemirror_mode": {
    "name": "ipython",
    "version": 3
   },
   "file_extension": ".py",
   "mimetype": "text/x-python",
   "name": "python",
   "nbconvert_exporter": "python",
   "pygments_lexer": "ipython3",
   "version": "3.9.12"
  }
 },
 "nbformat": 4,
 "nbformat_minor": 5
}
