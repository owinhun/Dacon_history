{
 "cells": [
  {
   "cell_type": "markdown",
   "id": "a2bcba5f-002e-4f49-9622-ada6117faf0a",
   "metadata": {},
   "source": [
    "## Import"
   ]
  },
  {
   "cell_type": "code",
   "execution_count": 1,
   "id": "2b0d9b68-7102-4eca-9543-3b9b8acafc6e",
   "metadata": {},
   "outputs": [
    {
     "name": "stderr",
     "output_type": "stream",
     "text": [
      "C:\\Users\\OH\\Anaconda3\\envs\\pytorch1\\lib\\site-packages\\tqdm\\auto.py:22: TqdmWarning: IProgress not found. Please update jupyter and ipywidgets. See https://ipywidgets.readthedocs.io/en/stable/user_install.html\n",
      "  from .autonotebook import tqdm as notebook_tqdm\n"
     ]
    }
   ],
   "source": [
    "import h5py # .h5 파일을 읽기 위한 패키지\n",
    "import random\n",
    "import pandas as pd\n",
    "import numpy as np\n",
    "import os\n",
    "import glob\n",
    "import torchvision.transforms as transforms # 이미지 변환 툴\n",
    "import torch\n",
    "import torch.nn as nn\n",
    "import torch.optim as optim\n",
    "import torch.nn.functional as F\n",
    "from torch.utils.data import Dataset, DataLoader\n",
    "\n",
    "from tqdm.auto import tqdm\n",
    "\n",
    "from sklearn.metrics import accuracy_score\n",
    "\n",
    "import warnings\n",
    "warnings.filterwarnings(action='ignore') "
   ]
  },
  {
   "cell_type": "code",
   "execution_count": 2,
   "id": "d13862e3-bb27-47af-9b58-a9fbf804df71",
   "metadata": {},
   "outputs": [
    {
     "data": {
      "text/plain": [
       "device(type='cuda')"
      ]
     },
     "execution_count": 2,
     "metadata": {},
     "output_type": "execute_result"
    }
   ],
   "source": [
    "device = torch.device('cuda') if torch.cuda.is_available() else torch.device('cpu')\n",
    "device"
   ]
  },
  {
   "cell_type": "markdown",
   "id": "fc7df3f2-62d0-4499-a46e-47d01699def0",
   "metadata": {},
   "source": [
    "## Hyperparameter Setting"
   ]
  },
  {
   "cell_type": "code",
   "execution_count": 3,
   "id": "c3367399-9798-4e38-967b-fd2320b9a2b2",
   "metadata": {},
   "outputs": [],
   "source": [
    "CFG = {\n",
    "    'EPOCHS':1000,\n",
    "    'LEARNING_RATE':0.02,\n",
    "    'BATCH_SIZE':128,\n",
    "    'SEED':41\n",
    "}"
   ]
  },
  {
   "cell_type": "markdown",
   "id": "4254e860-ff82-43ba-bfa3-fcee4eb3ddbd",
   "metadata": {},
   "source": [
    "## Fixed RandomSeed"
   ]
  },
  {
   "cell_type": "code",
   "execution_count": 4,
   "id": "101a714b-71b6-4475-a4ce-fa5f98bc2731",
   "metadata": {},
   "outputs": [],
   "source": [
    "def seed_everything(seed):\n",
    "    random.seed(seed)\n",
    "    os.environ['PYTHONHASHSEED'] = str(seed)\n",
    "    np.random.seed(seed)\n",
    "    torch.manual_seed(seed)\n",
    "    torch.cuda.manual_seed(seed)\n",
    "    torch.backends.cudnn.deterministic = True\n",
    "    torch.backends.cudnn.benchmark = True\n",
    "\n",
    "seed_everything(CFG['SEED']) # Seed 고정"
   ]
  },
  {
   "cell_type": "markdown",
   "id": "05a4172e-5791-446f-9616-35c09d8bf25a",
   "metadata": {},
   "source": [
    "## Data Pre-processing"
   ]
  },
  {
   "cell_type": "code",
   "execution_count": 5,
   "id": "bb174705-e5df-442d-b82a-cb17a4e831e6",
   "metadata": {},
   "outputs": [],
   "source": [
    "all_df = pd.read_csv('./train.csv')\n",
    "all_points = h5py.File('./train.h5', 'r')"
   ]
  },
  {
   "cell_type": "code",
   "execution_count": 6,
   "id": "89082ab7-7784-4e91-ad9c-6b9d2174ab91",
   "metadata": {},
   "outputs": [],
   "source": [
    "train_df = all_df.iloc[:int(len(all_df)*0.8)]\n",
    "val_df = all_df.iloc[int(len(all_df)*0.8):]"
   ]
  },
  {
   "cell_type": "markdown",
   "id": "ac27ed36-8031-47a7-bd0d-a913513f2e8e",
   "metadata": {},
   "source": [
    "## CustomDataset"
   ]
  },
  {
   "cell_type": "code",
   "execution_count": 7,
   "id": "16fd60a5-24e2-4539-bfd0-1c374a641699",
   "metadata": {},
   "outputs": [],
   "source": [
    "class CustomDataset(Dataset):\n",
    "    def __init__(self, id_list, label_list, point_list, train_mode=True, transforms=None):\n",
    "        self.train_mode = train_mode\n",
    "        self.transforms = transforms\n",
    "        self.id_list = id_list\n",
    "        self.label_list = label_list\n",
    "        self.point_list = point_list\n",
    "        \n",
    "    def __getitem__(self, index):\n",
    "        image_id = self.id_list[index]\n",
    "        \n",
    "        # h5파일을 바로 접근하여 사용하면 학습 속도가 병목 현상으로 많이 느릴 수 있습니다.\n",
    "        points = self.point_list[str(image_id)][:]\n",
    "        image = self.get_vector(points)\n",
    "        \n",
    "        if self.label_list is not None:\n",
    "            label = self.label_list[index]\n",
    "            return torch.Tensor(image).unsqueeze(0), label\n",
    "        else:\n",
    "            return torch.Tensor(image).unsqueeze(0)\n",
    "    \n",
    "    def get_vector(self, points, x_y_z=[18, 18, 18]):\n",
    "        # 3D Points -> [16,16,16]\n",
    "        xyzmin = np.min(points, axis=0) - 0.001\n",
    "        xyzmax = np.max(points, axis=0) + 0.001\n",
    "\n",
    "        diff = max(xyzmax-xyzmin) - (xyzmax-xyzmin)\n",
    "        xyzmin = xyzmin - diff / 2\n",
    "        xyzmax = xyzmax + diff / 2\n",
    "\n",
    "        segments = []\n",
    "        shape = []\n",
    "\n",
    "        for i in range(3):\n",
    "            # note the +1 in num \n",
    "            if type(x_y_z[i]) is not int:\n",
    "                raise TypeError(\"x_y_z[{}] must be int\".format(i))\n",
    "            s, step = np.linspace(xyzmin[i], xyzmax[i], num=(x_y_z[i] + 1), retstep=True)\n",
    "            segments.append(s)\n",
    "            shape.append(step)\n",
    "\n",
    "        n_voxels = x_y_z[0] * x_y_z[1] * x_y_z[2]\n",
    "        n_x = x_y_z[0]\n",
    "        n_y = x_y_z[1]\n",
    "        n_z = x_y_z[2]\n",
    "\n",
    "        structure = np.zeros((len(points), 4), dtype=int)\n",
    "        structure[:,0] = np.searchsorted(segments[0], points[:,0]) - 1\n",
    "        structure[:,1] = np.searchsorted(segments[1], points[:,1]) - 1\n",
    "        structure[:,2] = np.searchsorted(segments[2], points[:,2]) - 1\n",
    "\n",
    "        # i = ((y * n_x) + x) + (z * (n_x * n_y))\n",
    "        structure[:,3] = ((structure[:,1] * n_x) + structure[:,0]) + (structure[:,2] * (n_x * n_y)) \n",
    "\n",
    "        vector = np.zeros(n_voxels)\n",
    "        count = np.bincount(structure[:,3])\n",
    "        vector[:len(count)] = count\n",
    "\n",
    "        vector = vector.reshape(n_z, n_y, n_x)\n",
    "        return vector\n",
    "\n",
    "    def __len__(self):\n",
    "        return len(self.id_list)"
   ]
  },
  {
   "cell_type": "code",
   "execution_count": 8,
   "id": "a7da2766-5491-4cdb-a0a8-11a0b0d089fe",
   "metadata": {},
   "outputs": [],
   "source": [
    "# train_transform = transforms.Compose([\n",
    "#                     transforms.ToPILImage(),\n",
    "#                     transforms.Resize([CFG['IMG_SIZE'], CFG['IMG_SIZE']]), #이미지 사이즈 변형\n",
    "#                     transforms.RandomRotation(30),\n",
    "#                     # transforms.RandomErasing(scale=(0.025, 0.025), ratio=(1, 1)),\n",
    "#                     # transforms.RandomPerspective(),\n",
    "# transforms.LinearTransformation(),\n",
    "#                     # transforms.Resize((200, 300)),\n",
    "#                     # transforms.RandomCrop((180, 240)),\n",
    "#                     transforms.ColorJitter(brightness=0.5, saturation=0.5, hue=0.5),\n",
    "#                     transforms.GaussianBlur(51, (0.1, 2.0)),\n",
    "#                     transforms.RandomHorizontalFlip(),\n",
    "#                     transforms.RandomVerticalFlip(),\n",
    "# transforms.grayscale(),\n",
    "#                     transforms.Normalize(mean=(0.5, 0.5, 0.5), std=(0.5, 0.5, 0.5))\n",
    "#                     ])\n",
    "\n",
    "# test_transform = transforms.Compose([\n",
    "#                     transforms.ToPILImage(),\n",
    "#                     transforms.Resize([CFG['IMG_SIZE'], CFG['IMG_SIZE']]), #이미지 사이즈 변형\n",
    "#                     transforms.RandomRotation(30),\n",
    "#                     # transforms.RandomErasing(scale=(0.025, 0.025), ratio=(1, 1)),\n",
    "#                     # transforms.RandomPerspective(),\n",
    "# transforms.LinearTransformation(),\n",
    "#                     # transforms.Resize((200, 300)),\n",
    "#                     # transforms.RandomCrop((180, 240)),\n",
    "#                     transforms.ColorJitter(brightness=0.5, saturation=0.5, hue=0.5),\n",
    "#                     transforms.GaussianBlur(51, (0.1, 2.0)),\n",
    "#                     transforms.RandomHorizontalFlip(),\n",
    "#                     transforms.RandomVerticalFlip(),\n",
    "# transforms.grayscale(),\n",
    "#                     transforms.Normalize(mean=(0.5, 0.5, 0.5), std=(0.5, 0.5, 0.5))\n",
    "#                     ])"
   ]
  },
  {
   "cell_type": "code",
   "execution_count": 9,
   "id": "4735e7d8-1ad6-4a3f-bc09-b718b9b77fcc",
   "metadata": {},
   "outputs": [],
   "source": [
    "# def get_mean_std(dataset):\n",
    "#     meanRGB = [np.mean(image.numpy(),axis=(1,2)) for image, _ in dataset]\n",
    "#     stdRGB = [np.std(image.numpy(),axis=(1,2)) for image,_ in dataset]\n",
    "    \n",
    "#     meanR = np.mean([m[0] for m in meanRGB])\n",
    "#     meanG = np.mean([m[1] for m in meanRGB])\n",
    "#     meanB = np.mean([m[2] for m in meanRGB])\n",
    "    \n",
    "#     stdR = np.mean([s[0] for s in stdRGB])\n",
    "#     stdG = np.mean([s[1] for s in stdRGB])\n",
    "#     stdB = np.mean([s[2] for s in stdRGB])\n",
    "    \n",
    "#     print(meanR, meanG, meanB)\n",
    "#     print(stdR, stdG, stdB)\n",
    "\n",
    "#     train_transform = transforms.Compose([\n",
    "#                         # transforms.RandomResizedCrop(224),\n",
    "#                         # transforms.Resize(256),\n",
    "#                         # transforms.RandomRotation(60),\n",
    "#                         transforms.RandomPerspective(),\n",
    "#                         transforms.ToTensor(), #이미지 데이터를 tensor\n",
    "#                         transforms.Normalize((meanR, meanG, meanB), (stdR, stdG, stdB)), #이미지 정규화\n",
    "#                         transforms.RandomHorizontalFlip(),\n",
    "#                         transforms.RandomVerticalFlip(),\n",
    "#                         # transforms.RandomErasing()\n",
    "#                         ])\n",
    "\n",
    "#     test_transform = transforms.Compose([\n",
    "#                         # transforms.CenterCrop(224),\n",
    "#                         transforms.ToTensor(),\n",
    "#                         transforms.Normalize(mean=(0.5, 0.5, 0.5), std=(0.5, 0.5, 0.5)),\n",
    "#                         # transforms.RandomHorizontalFlip(),\n",
    "#                         # transforms.RandomVerticalFlip()\n",
    "#                         ])"
   ]
  },
  {
   "cell_type": "code",
   "execution_count": 10,
   "id": "f0ce2e52-4364-4133-9e38-f9768d7cfb64",
   "metadata": {},
   "outputs": [],
   "source": [
    "train_transform = transforms.Compose([\n",
    "                    transforms.Resize(256),\n",
    "                    transforms.CenterCrop(224),\n",
    "                    transforms.ToTensor(), #이미지 데이터를 tensor\n",
    "                    transforms.Normalize(mean=(0.5, 0.5, 0.5), std=(0.5, 0.5, 0.5)), #이미지 정규화\n",
    "                    transforms.RandomHorizontalFlip(),\n",
    "                    # transforms.RandomVerticalFlip(),\n",
    "                    # transforms.RandomErasing()\n",
    "                    ])\n",
    "\n",
    "test_transform = transforms.Compose([\n",
    "                    transforms.ToTensor(),\n",
    "                    transforms.Normalize(mean=(0.5, 0.5, 0.5), std=(0.5, 0.5, 0.5)),\n",
    "                    ])"
   ]
  },
  {
   "cell_type": "code",
   "execution_count": 11,
   "id": "9d880481-1965-499d-9caa-fdfa8526f789",
   "metadata": {},
   "outputs": [],
   "source": [
    "# train_dataset = CustomDataset(train_df['ID'].values, train_df['label'].values, all_points)\n",
    "# train_loader = DataLoader(train_dataset, batch_size = CFG['BATCH_SIZE'], shuffle=True, num_workers=0)\n",
    "\n",
    "# val_dataset = CustomDataset(val_df['ID'].values, val_df['label'].values, all_points)\n",
    "# val_loader = DataLoader(val_dataset, batch_size=CFG['BATCH_SIZE'], shuffle=False, num_workers=0)"
   ]
  },
  {
   "cell_type": "code",
   "execution_count": 12,
   "id": "ea51f00c-4264-4406-98ba-6bcefc01674e",
   "metadata": {},
   "outputs": [],
   "source": [
    "train_dataset = CustomDataset(train_df['ID'].values, train_df['label'].values, all_points, train_mode=True, transforms=train_transform)\n",
    "train_loader = DataLoader(train_dataset, batch_size = CFG['BATCH_SIZE'], shuffle=True, num_workers=0)\n",
    "\n",
    "val_dataset = CustomDataset(val_df['ID'].values, val_df['label'].values, all_points, train_mode=True, transforms=test_transform)\n",
    "val_loader = DataLoader(val_dataset, batch_size=CFG['BATCH_SIZE'], shuffle=False, num_workers=0)"
   ]
  },
  {
   "cell_type": "code",
   "execution_count": 13,
   "id": "7c394c9f-8789-4929-9f5c-39d18b574185",
   "metadata": {},
   "outputs": [
    {
     "data": {
      "text/plain": [
       "(torch.Size([1, 18, 18, 18]), 5)"
      ]
     },
     "execution_count": 13,
     "metadata": {},
     "output_type": "execute_result"
    }
   ],
   "source": [
    "train_dataset[0][0].shape, train_dataset[0][1]"
   ]
  },
  {
   "cell_type": "markdown",
   "id": "39962463-032f-490a-a76d-c03991795f38",
   "metadata": {},
   "source": [
    "## Model Define"
   ]
  },
  {
   "cell_type": "code",
   "execution_count": 14,
   "id": "3664c4d0-f1f2-4971-9090-4d6ee66309ae",
   "metadata": {},
   "outputs": [],
   "source": [
    "# class BaseModel(nn.Module):\n",
    "#     def __init__(self):\n",
    "#         super(BaseModel,self).__init__()\n",
    "#         self.feature_extract = nn.Sequential(\n",
    "#             nn.Conv3d(1,8,3),\n",
    "#             nn.ReLU(),\n",
    "#             nn.BatchNorm3d(8),\n",
    "#             nn.Conv3d(8,32,3),\n",
    "#             nn.ReLU(),\n",
    "#             nn.BatchNorm3d(32),\n",
    "#             nn.MaxPool3d(4),\n",
    "#             nn.Conv3d(32,32,3),\n",
    "#             nn.ReLU(),\n",
    "#         )\n",
    "#         self.classifier = nn.Linear(32,10)\n",
    "\n",
    "#     def forward(self,x):\n",
    "#         x = self.feature_extract(x)\n",
    "#         x = x.view(x.size()[0],-1)\n",
    "#         x = self.classifier(x)\n",
    "#         return x"
   ]
  },
  {
   "cell_type": "code",
   "execution_count": 15,
   "id": "16d9bff2-1deb-48fb-a10b-d9fd256c4917",
   "metadata": {
    "tags": []
   },
   "outputs": [],
   "source": [
    "class Vgg19(nn.Module):\n",
    "    def __init__(self):\n",
    "        super(Vgg19,self).__init__()\n",
    "        self.feature_extract = nn.Sequential(\n",
    "            \n",
    "            # 1\n",
    "            nn.Conv3d(1,64, kernel_size = 3, stride = 1, padding = 1),\n",
    "            nn.ReLU(),\n",
    "            nn.BatchNorm3d(64),\n",
    "            \n",
    "            nn.Conv3d(64,64, kernel_size = 3, stride = 1, padding = 1),\n",
    "            nn.ReLU(),\n",
    "            nn.BatchNorm3d(64),\n",
    "            nn.MaxPool3d(kernel_size = 2, stride = 2),\n",
    "            \n",
    "            # 2\n",
    "            nn.Conv3d(64,128, kernel_size = 3, stride = 1, padding = 1),\n",
    "            nn.ReLU(),\n",
    "            nn.BatchNorm3d(128),\n",
    "            \n",
    "            nn.Conv3d(128,128, kernel_size = 3, stride = 1, padding = 1),\n",
    "            nn.ReLU(),\n",
    "            nn.BatchNorm3d(128),\n",
    "            nn.MaxPool3d(kernel_size = 2, stride = 2),\n",
    "            \n",
    "            # 3\n",
    "            nn.Conv3d(128,256, kernel_size = 3, stride = 1, padding = 1),\n",
    "            nn.ReLU(),\n",
    "            nn.BatchNorm3d(256),\n",
    "            \n",
    "            nn.Conv3d(256,256, kernel_size = 3, stride = 1, padding = 1),\n",
    "            nn.ReLU(),\n",
    "            nn.BatchNorm3d(256),\n",
    "            \n",
    "            nn.Conv3d(256,256, kernel_size = 3, stride = 1, padding = 1),\n",
    "            nn.ReLU(),\n",
    "            nn.BatchNorm3d(256),\n",
    "            \n",
    "            nn.Conv3d(256,256, kernel_size = 3, stride = 1, padding = 1),\n",
    "            nn.ReLU(),\n",
    "            nn.BatchNorm3d(256),\n",
    "            nn.MaxPool3d(kernel_size = 2, stride = 2),\n",
    "            \n",
    "            # 4\n",
    "            nn.Conv3d(256,512, kernel_size = 3, stride = 1, padding = 1),\n",
    "            nn.ReLU(),\n",
    "            nn.BatchNorm3d(512),\n",
    "            \n",
    "            nn.Conv3d(512,512, kernel_size = 3, stride = 1, padding = 1),\n",
    "            nn.ReLU(),\n",
    "            nn.BatchNorm3d(512),\n",
    "            \n",
    "            nn.Conv3d(512,512, kernel_size = 3, stride = 1, padding = 1),\n",
    "            nn.ReLU(),\n",
    "            nn.BatchNorm3d(512),\n",
    "            \n",
    "            nn.Conv3d(512,512, kernel_size = 3, stride = 1, padding = 1),\n",
    "            nn.ReLU(),\n",
    "            nn.BatchNorm3d(512),\n",
    "            nn.MaxPool3d(kernel_size = 2, stride = 2),\n",
    "            \n",
    "            # 5\n",
    "#             nn.Conv3d(512,512, kernel_size = 3, stride = 1, padding = 1),\n",
    "#             nn.ReLU(),\n",
    "#             nn.BatchNorm3d(512),\n",
    "            \n",
    "#             nn.Conv3d(512,512, kernel_size = 3, stride = 1, padding = 1),\n",
    "#             nn.ReLU(),\n",
    "#             nn.BatchNorm3d(512),\n",
    "            \n",
    "#             nn.Conv3d(512,512, kernel_size = 3, stride = 1, padding = 1),\n",
    "#             nn.ReLU(),\n",
    "#             nn.BatchNorm3d(512),\n",
    "            \n",
    "#             nn.Conv3d(512,512, kernel_size = 3, stride = 1, padding = 1),\n",
    "#             nn.ReLU(),\n",
    "#             nn.BatchNorm3d(512),\n",
    "#             nn.MaxPool3d(kernel_size = 2, stride = 2),\n",
    "        )\n",
    "        \n",
    "        self.classifier = nn.Sequential(\n",
    "            nn.Dropout(0.4),\n",
    "            nn.Linear(512,10)\n",
    "        )\n",
    "        \n",
    "    def forward(self,x):\n",
    "        x = self.feature_extract(x)\n",
    "        x = x.view(x.size()[0],-1)\n",
    "        x = self.classifier(x)\n",
    "        return x"
   ]
  },
  {
   "cell_type": "code",
   "execution_count": 48,
   "id": "0477c41f-a476-4385-b9d9-2e11414ed9e5",
   "metadata": {},
   "outputs": [],
   "source": [
    "# 고차원, 복잡하게 말고 간단하게, data augmentation,"
   ]
  },
  {
   "cell_type": "code",
   "execution_count": 49,
   "id": "a0d1ee8e-d3e9-49b4-9f96-a91011789c29",
   "metadata": {},
   "outputs": [],
   "source": [
    "# from torchsummary import summary\n",
    "# model = BaseModel().to(device)\n",
    "# summary(model, (1, 20, 20, 20))"
   ]
  },
  {
   "cell_type": "markdown",
   "id": "122af0aa-a1fd-4595-9488-35761e3cb596",
   "metadata": {},
   "source": [
    "## Train"
   ]
  },
  {
   "cell_type": "code",
   "execution_count": 50,
   "id": "a17df6b3-16c9-44dd-b0fd-ffb501fee749",
   "metadata": {},
   "outputs": [],
   "source": [
    "def train(model, optimizer, train_loader, val_loader, scheduler, device):\n",
    "    model.to(device)\n",
    "    criterion = nn.CrossEntropyLoss().to(device)\n",
    "    best_loss = np.inf\n",
    "    cnt = 0\n",
    "    \n",
    "    for epoch in range(1, CFG['EPOCHS']+1):\n",
    "        model.train()\n",
    "        train_loss = []\n",
    "        for data, label in tqdm(iter(train_loader)):\n",
    "            data, label = data.float().to(device), label.long().to(device)\n",
    "            optimizer.zero_grad()\n",
    "            \n",
    "            output = model(data)\n",
    "            loss = criterion(output, label)\n",
    "            \n",
    "            loss.backward()\n",
    "            optimizer.step()\n",
    "            \n",
    "            train_loss.append(loss.item())\n",
    "        \n",
    "        if scheduler is not None:\n",
    "            scheduler.step()\n",
    "            \n",
    "        val_loss, val_acc = validation(model, criterion, val_loader, device)\n",
    "        print(f'Epoch : [{epoch}] Train Loss : [{np.mean(train_loss)}] Val Loss : [{val_loss}] Val ACC : [{val_acc}]')\n",
    "        \n",
    "        if best_loss >= val_loss:\n",
    "            best_loss = val_loss\n",
    "            torch.save(model.state_dict(), './best_model.pth')\n",
    "            print('Model Saved.')\n",
    "            cnt = 0\n",
    "            \n",
    "        if best_loss <= val_loss:\n",
    "            cnt = cnt + 1 \n",
    "            print('cnt: ' , cnt)\n",
    "            if cnt > 5:\n",
    "                break"
   ]
  },
  {
   "cell_type": "code",
   "execution_count": 51,
   "id": "079a36b3-fdc4-478d-ade4-47188329ebcf",
   "metadata": {},
   "outputs": [],
   "source": [
    "def validation(model, criterion, val_loader, device):\n",
    "    model.eval()\n",
    "    true_labels = []\n",
    "    model_preds = []\n",
    "    val_loss = []\n",
    "    with torch.no_grad():\n",
    "        for data, label in tqdm(iter(val_loader)):\n",
    "            data, label = data.float().to(device), label.long().to(device)\n",
    "            \n",
    "            model_pred = model(data)\n",
    "            loss = criterion(model_pred, label)\n",
    "            \n",
    "            val_loss.append(loss.item())\n",
    "            \n",
    "            model_preds += model_pred.argmax(1).detach().cpu().numpy().tolist()\n",
    "            true_labels += label.detach().cpu().numpy().tolist()\n",
    "    \n",
    "    return np.mean(val_loss), accuracy_score(true_labels, model_preds)"
   ]
  },
  {
   "cell_type": "code",
   "execution_count": 52,
   "id": "3ca0c37d-a224-46a6-a34d-3342edac7439",
   "metadata": {
    "tags": []
   },
   "outputs": [
    {
     "name": "stdout",
     "output_type": "stream",
     "text": [
      "----------------------------------------------------------------\n",
      "        Layer (type)               Output Shape         Param #\n",
      "================================================================\n",
      "            Conv3d-1       [-1, 64, 18, 18, 18]           1,792\n",
      "              ReLU-2       [-1, 64, 18, 18, 18]               0\n",
      "       BatchNorm3d-3       [-1, 64, 18, 18, 18]             128\n",
      "            Conv3d-4       [-1, 64, 18, 18, 18]         110,656\n",
      "              ReLU-5       [-1, 64, 18, 18, 18]               0\n",
      "       BatchNorm3d-6       [-1, 64, 18, 18, 18]             128\n",
      "         MaxPool3d-7          [-1, 64, 9, 9, 9]               0\n",
      "            Conv3d-8         [-1, 128, 9, 9, 9]         221,312\n",
      "              ReLU-9         [-1, 128, 9, 9, 9]               0\n",
      "      BatchNorm3d-10         [-1, 128, 9, 9, 9]             256\n",
      "           Conv3d-11         [-1, 128, 9, 9, 9]         442,496\n",
      "             ReLU-12         [-1, 128, 9, 9, 9]               0\n",
      "      BatchNorm3d-13         [-1, 128, 9, 9, 9]             256\n",
      "        MaxPool3d-14         [-1, 128, 4, 4, 4]               0\n",
      "           Conv3d-15         [-1, 256, 4, 4, 4]         884,992\n",
      "             ReLU-16         [-1, 256, 4, 4, 4]               0\n",
      "      BatchNorm3d-17         [-1, 256, 4, 4, 4]             512\n",
      "           Conv3d-18         [-1, 256, 4, 4, 4]       1,769,728\n",
      "             ReLU-19         [-1, 256, 4, 4, 4]               0\n",
      "      BatchNorm3d-20         [-1, 256, 4, 4, 4]             512\n",
      "           Conv3d-21         [-1, 256, 4, 4, 4]       1,769,728\n",
      "             ReLU-22         [-1, 256, 4, 4, 4]               0\n",
      "      BatchNorm3d-23         [-1, 256, 4, 4, 4]             512\n",
      "           Conv3d-24         [-1, 256, 4, 4, 4]       1,769,728\n",
      "             ReLU-25         [-1, 256, 4, 4, 4]               0\n",
      "      BatchNorm3d-26         [-1, 256, 4, 4, 4]             512\n",
      "        MaxPool3d-27         [-1, 256, 2, 2, 2]               0\n",
      "           Conv3d-28         [-1, 512, 2, 2, 2]       3,539,456\n",
      "             ReLU-29         [-1, 512, 2, 2, 2]               0\n",
      "      BatchNorm3d-30         [-1, 512, 2, 2, 2]           1,024\n",
      "           Conv3d-31         [-1, 512, 2, 2, 2]       7,078,400\n",
      "             ReLU-32         [-1, 512, 2, 2, 2]               0\n",
      "      BatchNorm3d-33         [-1, 512, 2, 2, 2]           1,024\n",
      "           Conv3d-34         [-1, 512, 2, 2, 2]       7,078,400\n",
      "             ReLU-35         [-1, 512, 2, 2, 2]               0\n",
      "      BatchNorm3d-36         [-1, 512, 2, 2, 2]           1,024\n",
      "           Conv3d-37         [-1, 512, 2, 2, 2]       7,078,400\n",
      "             ReLU-38         [-1, 512, 2, 2, 2]               0\n",
      "      BatchNorm3d-39         [-1, 512, 2, 2, 2]           1,024\n",
      "        MaxPool3d-40         [-1, 512, 1, 1, 1]               0\n",
      "          Dropout-41                  [-1, 512]               0\n",
      "           Linear-42                   [-1, 10]           5,130\n",
      "================================================================\n",
      "Total params: 31,757,130\n",
      "Trainable params: 31,757,130\n",
      "Non-trainable params: 0\n",
      "----------------------------------------------------------------\n",
      "Input size (MB): 0.02\n",
      "Forward/backward pass size (MB): 23.67\n",
      "Params size (MB): 121.14\n",
      "Estimated Total Size (MB): 144.84\n",
      "----------------------------------------------------------------\n"
     ]
    }
   ],
   "source": [
    "from torchsummary import summary\n",
    "model = Vgg19().to(device)\n",
    "summary(model, (1, 18, 18, 18))"
   ]
  },
  {
   "cell_type": "code",
   "execution_count": 53,
   "id": "249725ab-fb21-44f0-8557-5cb9c6ae2c32",
   "metadata": {},
   "outputs": [],
   "source": [
    "# pip install torchsummary"
   ]
  },
  {
   "cell_type": "markdown",
   "id": "51da39f9-904f-4abd-a7d2-cdf29c4a6c24",
   "metadata": {},
   "source": [
    "## Run!!"
   ]
  },
  {
   "cell_type": "code",
   "execution_count": 54,
   "id": "86142d9a-68b7-4d04-8423-49d28025411d",
   "metadata": {
    "tags": []
   },
   "outputs": [
    {
     "name": "stderr",
     "output_type": "stream",
     "text": [
      "100%|████████████████████████████████████████████████████████████████████████████████| 313/313 [03:09<00:00,  1.66it/s]\n",
      "100%|██████████████████████████████████████████████████████████████████████████████████| 79/79 [00:33<00:00,  2.38it/s]\n"
     ]
    },
    {
     "name": "stdout",
     "output_type": "stream",
     "text": [
      "Epoch : [1] Train Loss : [1.3371462882898104] Val Loss : [0.4535674579158614] Val ACC : [0.8618]\n",
      "Model Saved.\n",
      "cnt:  1\n"
     ]
    },
    {
     "name": "stderr",
     "output_type": "stream",
     "text": [
      "100%|████████████████████████████████████████████████████████████████████████████████| 313/313 [02:59<00:00,  1.75it/s]\n",
      "100%|██████████████████████████████████████████████████████████████████████████████████| 79/79 [00:32<00:00,  2.43it/s]\n"
     ]
    },
    {
     "name": "stdout",
     "output_type": "stream",
     "text": [
      "Epoch : [2] Train Loss : [0.3044026960342075] Val Loss : [0.293890877992292] Val ACC : [0.9091]\n",
      "Model Saved.\n",
      "cnt:  1\n"
     ]
    },
    {
     "name": "stderr",
     "output_type": "stream",
     "text": [
      "100%|████████████████████████████████████████████████████████████████████████████████| 313/313 [02:57<00:00,  1.76it/s]\n",
      "100%|██████████████████████████████████████████████████████████████████████████████████| 79/79 [00:33<00:00,  2.39it/s]\n"
     ]
    },
    {
     "name": "stdout",
     "output_type": "stream",
     "text": [
      "Epoch : [3] Train Loss : [0.2741673022937089] Val Loss : [0.18755616398551797] Val ACC : [0.9421]\n",
      "Model Saved.\n",
      "cnt:  1\n"
     ]
    },
    {
     "name": "stderr",
     "output_type": "stream",
     "text": [
      "100%|████████████████████████████████████████████████████████████████████████████████| 313/313 [02:59<00:00,  1.74it/s]\n",
      "100%|██████████████████████████████████████████████████████████████████████████████████| 79/79 [00:32<00:00,  2.41it/s]\n"
     ]
    },
    {
     "name": "stdout",
     "output_type": "stream",
     "text": [
      "Epoch : [4] Train Loss : [0.39468474920612934] Val Loss : [0.24571094143239758] Val ACC : [0.9209]\n",
      "cnt:  2\n"
     ]
    },
    {
     "name": "stderr",
     "output_type": "stream",
     "text": [
      "100%|████████████████████████████████████████████████████████████████████████████████| 313/313 [02:59<00:00,  1.75it/s]\n",
      "100%|██████████████████████████████████████████████████████████████████████████████████| 79/79 [00:32<00:00,  2.43it/s]\n"
     ]
    },
    {
     "name": "stdout",
     "output_type": "stream",
     "text": [
      "Epoch : [5] Train Loss : [0.15996714119022837] Val Loss : [0.17443010550511034] Val ACC : [0.9468]\n",
      "Model Saved.\n",
      "cnt:  1\n"
     ]
    },
    {
     "name": "stderr",
     "output_type": "stream",
     "text": [
      "100%|████████████████████████████████████████████████████████████████████████████████| 313/313 [02:58<00:00,  1.75it/s]\n",
      "100%|██████████████████████████████████████████████████████████████████████████████████| 79/79 [00:32<00:00,  2.45it/s]\n"
     ]
    },
    {
     "name": "stdout",
     "output_type": "stream",
     "text": [
      "Epoch : [6] Train Loss : [0.11021329099520707] Val Loss : [0.1190231706522688] Val ACC : [0.9658]\n",
      "Model Saved.\n",
      "cnt:  1\n"
     ]
    },
    {
     "name": "stderr",
     "output_type": "stream",
     "text": [
      "100%|████████████████████████████████████████████████████████████████████████████████| 313/313 [02:57<00:00,  1.76it/s]\n",
      "100%|██████████████████████████████████████████████████████████████████████████████████| 79/79 [00:32<00:00,  2.46it/s]\n"
     ]
    },
    {
     "name": "stdout",
     "output_type": "stream",
     "text": [
      "Epoch : [7] Train Loss : [0.08968409497481279] Val Loss : [0.10234994170126281] Val ACC : [0.9679]\n",
      "Model Saved.\n",
      "cnt:  1\n"
     ]
    },
    {
     "name": "stderr",
     "output_type": "stream",
     "text": [
      "100%|████████████████████████████████████████████████████████████████████████████████| 313/313 [02:57<00:00,  1.77it/s]\n",
      "100%|██████████████████████████████████████████████████████████████████████████████████| 79/79 [00:32<00:00,  2.47it/s]\n"
     ]
    },
    {
     "name": "stdout",
     "output_type": "stream",
     "text": [
      "Epoch : [8] Train Loss : [0.07673083202758679] Val Loss : [0.10830847584182703] Val ACC : [0.9677]\n",
      "cnt:  2\n"
     ]
    },
    {
     "name": "stderr",
     "output_type": "stream",
     "text": [
      "100%|████████████████████████████████████████████████████████████████████████████████| 313/313 [02:56<00:00,  1.77it/s]\n",
      "100%|██████████████████████████████████████████████████████████████████████████████████| 79/79 [00:31<00:00,  2.47it/s]\n"
     ]
    },
    {
     "name": "stdout",
     "output_type": "stream",
     "text": [
      "Epoch : [9] Train Loss : [0.06903453540211668] Val Loss : [0.08953970602324492] Val ACC : [0.9744]\n",
      "Model Saved.\n",
      "cnt:  1\n"
     ]
    },
    {
     "name": "stderr",
     "output_type": "stream",
     "text": [
      "100%|████████████████████████████████████████████████████████████████████████████████| 313/313 [02:56<00:00,  1.78it/s]\n",
      "100%|██████████████████████████████████████████████████████████████████████████████████| 79/79 [00:31<00:00,  2.47it/s]\n"
     ]
    },
    {
     "name": "stdout",
     "output_type": "stream",
     "text": [
      "Epoch : [10] Train Loss : [0.05929967569716917] Val Loss : [0.0758107574951328] Val ACC : [0.9753]\n",
      "Model Saved.\n",
      "cnt:  1\n"
     ]
    },
    {
     "name": "stderr",
     "output_type": "stream",
     "text": [
      "100%|████████████████████████████████████████████████████████████████████████████████| 313/313 [02:55<00:00,  1.78it/s]\n",
      "100%|██████████████████████████████████████████████████████████████████████████████████| 79/79 [00:32<00:00,  2.47it/s]\n"
     ]
    },
    {
     "name": "stdout",
     "output_type": "stream",
     "text": [
      "Epoch : [11] Train Loss : [0.0508436746902752] Val Loss : [0.07524229545452737] Val ACC : [0.9778]\n",
      "Model Saved.\n",
      "cnt:  1\n"
     ]
    },
    {
     "name": "stderr",
     "output_type": "stream",
     "text": [
      "100%|████████████████████████████████████████████████████████████████████████████████| 313/313 [02:55<00:00,  1.78it/s]\n",
      "100%|██████████████████████████████████████████████████████████████████████████████████| 79/79 [00:31<00:00,  2.48it/s]\n"
     ]
    },
    {
     "name": "stdout",
     "output_type": "stream",
     "text": [
      "Epoch : [12] Train Loss : [0.04387551878308193] Val Loss : [0.07273822861924013] Val ACC : [0.9771]\n",
      "Model Saved.\n",
      "cnt:  1\n"
     ]
    },
    {
     "name": "stderr",
     "output_type": "stream",
     "text": [
      "100%|████████████████████████████████████████████████████████████████████████████████| 313/313 [02:55<00:00,  1.78it/s]\n",
      "100%|██████████████████████████████████████████████████████████████████████████████████| 79/79 [00:31<00:00,  2.48it/s]\n"
     ]
    },
    {
     "name": "stdout",
     "output_type": "stream",
     "text": [
      "Epoch : [13] Train Loss : [0.0390765950672876] Val Loss : [0.06715133633093225] Val ACC : [0.9806]\n",
      "Model Saved.\n",
      "cnt:  1\n"
     ]
    },
    {
     "name": "stderr",
     "output_type": "stream",
     "text": [
      "100%|████████████████████████████████████████████████████████████████████████████████| 313/313 [02:55<00:00,  1.78it/s]\n",
      "100%|██████████████████████████████████████████████████████████████████████████████████| 79/79 [00:31<00:00,  2.49it/s]\n"
     ]
    },
    {
     "name": "stdout",
     "output_type": "stream",
     "text": [
      "Epoch : [14] Train Loss : [0.03518770628693564] Val Loss : [0.08394110331877688] Val ACC : [0.9759]\n",
      "cnt:  2\n"
     ]
    },
    {
     "name": "stderr",
     "output_type": "stream",
     "text": [
      "100%|████████████████████████████████████████████████████████████████████████████████| 313/313 [02:55<00:00,  1.78it/s]\n",
      "100%|██████████████████████████████████████████████████████████████████████████████████| 79/79 [00:31<00:00,  2.48it/s]\n"
     ]
    },
    {
     "name": "stdout",
     "output_type": "stream",
     "text": [
      "Epoch : [15] Train Loss : [0.04908521889006725] Val Loss : [0.07630543444376392] Val ACC : [0.9758]\n",
      "cnt:  3\n"
     ]
    },
    {
     "name": "stderr",
     "output_type": "stream",
     "text": [
      "100%|████████████████████████████████████████████████████████████████████████████████| 313/313 [02:55<00:00,  1.78it/s]\n",
      "100%|██████████████████████████████████████████████████████████████████████████████████| 79/79 [00:31<00:00,  2.48it/s]\n"
     ]
    },
    {
     "name": "stdout",
     "output_type": "stream",
     "text": [
      "Epoch : [16] Train Loss : [0.061060762815415476] Val Loss : [0.06583352846718288] Val ACC : [0.9806]\n",
      "Model Saved.\n",
      "cnt:  1\n"
     ]
    },
    {
     "name": "stderr",
     "output_type": "stream",
     "text": [
      "100%|████████████████████████████████████████████████████████████████████████████████| 313/313 [02:55<00:00,  1.78it/s]\n",
      "100%|██████████████████████████████████████████████████████████████████████████████████| 79/79 [00:31<00:00,  2.48it/s]\n"
     ]
    },
    {
     "name": "stdout",
     "output_type": "stream",
     "text": [
      "Epoch : [17] Train Loss : [0.03893312276787342] Val Loss : [0.060258266610340984] Val ACC : [0.9824]\n",
      "Model Saved.\n",
      "cnt:  1\n"
     ]
    },
    {
     "name": "stderr",
     "output_type": "stream",
     "text": [
      "100%|████████████████████████████████████████████████████████████████████████████████| 313/313 [02:55<00:00,  1.78it/s]\n",
      "100%|██████████████████████████████████████████████████████████████████████████████████| 79/79 [00:31<00:00,  2.48it/s]\n"
     ]
    },
    {
     "name": "stdout",
     "output_type": "stream",
     "text": [
      "Epoch : [18] Train Loss : [0.029605309074274458] Val Loss : [0.05740330647529822] Val ACC : [0.9833]\n",
      "Model Saved.\n",
      "cnt:  1\n"
     ]
    },
    {
     "name": "stderr",
     "output_type": "stream",
     "text": [
      "100%|████████████████████████████████████████████████████████████████████████████████| 313/313 [02:55<00:00,  1.78it/s]\n",
      "100%|██████████████████████████████████████████████████████████████████████████████████| 79/79 [00:31<00:00,  2.48it/s]\n"
     ]
    },
    {
     "name": "stdout",
     "output_type": "stream",
     "text": [
      "Epoch : [19] Train Loss : [0.024806566525826426] Val Loss : [0.059780309698839164] Val ACC : [0.9819]\n",
      "cnt:  2\n"
     ]
    },
    {
     "name": "stderr",
     "output_type": "stream",
     "text": [
      "100%|████████████████████████████████████████████████████████████████████████████████| 313/313 [02:55<00:00,  1.78it/s]\n",
      "100%|██████████████████████████████████████████████████████████████████████████████████| 79/79 [00:31<00:00,  2.48it/s]\n"
     ]
    },
    {
     "name": "stdout",
     "output_type": "stream",
     "text": [
      "Epoch : [20] Train Loss : [0.023049845172020907] Val Loss : [0.06026831039159759] Val ACC : [0.982]\n",
      "cnt:  3\n"
     ]
    },
    {
     "name": "stderr",
     "output_type": "stream",
     "text": [
      "100%|████████████████████████████████████████████████████████████████████████████████| 313/313 [02:55<00:00,  1.78it/s]\n",
      "100%|██████████████████████████████████████████████████████████████████████████████████| 79/79 [00:31<00:00,  2.47it/s]\n"
     ]
    },
    {
     "name": "stdout",
     "output_type": "stream",
     "text": [
      "Epoch : [21] Train Loss : [0.020188407788533695] Val Loss : [0.06291851905414753] Val ACC : [0.9838]\n",
      "cnt:  4\n"
     ]
    },
    {
     "name": "stderr",
     "output_type": "stream",
     "text": [
      "100%|████████████████████████████████████████████████████████████████████████████████| 313/313 [02:56<00:00,  1.78it/s]\n",
      "100%|██████████████████████████████████████████████████████████████████████████████████| 79/79 [00:31<00:00,  2.48it/s]\n"
     ]
    },
    {
     "name": "stdout",
     "output_type": "stream",
     "text": [
      "Epoch : [22] Train Loss : [0.01829759660660447] Val Loss : [0.06361996876097968] Val ACC : [0.9838]\n",
      "cnt:  5\n"
     ]
    },
    {
     "name": "stderr",
     "output_type": "stream",
     "text": [
      "100%|████████████████████████████████████████████████████████████████████████████████| 313/313 [02:56<00:00,  1.78it/s]\n",
      "100%|██████████████████████████████████████████████████████████████████████████████████| 79/79 [00:31<00:00,  2.47it/s]\n"
     ]
    },
    {
     "name": "stdout",
     "output_type": "stream",
     "text": [
      "Epoch : [23] Train Loss : [0.016604367080207814] Val Loss : [0.05573331202856336] Val ACC : [0.9838]\n",
      "Model Saved.\n",
      "cnt:  1\n"
     ]
    },
    {
     "name": "stderr",
     "output_type": "stream",
     "text": [
      "100%|████████████████████████████████████████████████████████████████████████████████| 313/313 [02:56<00:00,  1.78it/s]\n",
      "100%|██████████████████████████████████████████████████████████████████████████████████| 79/79 [00:31<00:00,  2.48it/s]\n"
     ]
    },
    {
     "name": "stdout",
     "output_type": "stream",
     "text": [
      "Epoch : [24] Train Loss : [0.015223325907170718] Val Loss : [0.06449445362587436] Val ACC : [0.9841]\n",
      "cnt:  2\n"
     ]
    },
    {
     "name": "stderr",
     "output_type": "stream",
     "text": [
      "100%|████████████████████████████████████████████████████████████████████████████████| 313/313 [02:55<00:00,  1.78it/s]\n",
      "100%|██████████████████████████████████████████████████████████████████████████████████| 79/79 [00:31<00:00,  2.47it/s]\n"
     ]
    },
    {
     "name": "stdout",
     "output_type": "stream",
     "text": [
      "Epoch : [25] Train Loss : [0.014117667883037241] Val Loss : [0.05689792049815878] Val ACC : [0.9853]\n",
      "cnt:  3\n"
     ]
    },
    {
     "name": "stderr",
     "output_type": "stream",
     "text": [
      "100%|████████████████████████████████████████████████████████████████████████████████| 313/313 [02:56<00:00,  1.78it/s]\n",
      "100%|██████████████████████████████████████████████████████████████████████████████████| 79/79 [00:31<00:00,  2.47it/s]\n"
     ]
    },
    {
     "name": "stdout",
     "output_type": "stream",
     "text": [
      "Epoch : [26] Train Loss : [0.011759633765905164] Val Loss : [0.06304013044160756] Val ACC : [0.9837]\n",
      "cnt:  4\n"
     ]
    },
    {
     "name": "stderr",
     "output_type": "stream",
     "text": [
      "100%|████████████████████████████████████████████████████████████████████████████████| 313/313 [02:55<00:00,  1.78it/s]\n",
      "100%|██████████████████████████████████████████████████████████████████████████████████| 79/79 [00:31<00:00,  2.49it/s]\n"
     ]
    },
    {
     "name": "stdout",
     "output_type": "stream",
     "text": [
      "Epoch : [27] Train Loss : [0.00901609601040751] Val Loss : [0.05922970105636028] Val ACC : [0.9861]\n",
      "cnt:  5\n"
     ]
    },
    {
     "name": "stderr",
     "output_type": "stream",
     "text": [
      "100%|████████████████████████████████████████████████████████████████████████████████| 313/313 [02:55<00:00,  1.78it/s]\n",
      "100%|██████████████████████████████████████████████████████████████████████████████████| 79/79 [00:31<00:00,  2.47it/s]\n"
     ]
    },
    {
     "name": "stdout",
     "output_type": "stream",
     "text": [
      "Epoch : [28] Train Loss : [0.011063286612346283] Val Loss : [0.0552322334037796] Val ACC : [0.9867]\n",
      "Model Saved.\n",
      "cnt:  1\n"
     ]
    },
    {
     "name": "stderr",
     "output_type": "stream",
     "text": [
      "100%|████████████████████████████████████████████████████████████████████████████████| 313/313 [02:55<00:00,  1.78it/s]\n",
      "100%|██████████████████████████████████████████████████████████████████████████████████| 79/79 [00:31<00:00,  2.49it/s]\n"
     ]
    },
    {
     "name": "stdout",
     "output_type": "stream",
     "text": [
      "Epoch : [29] Train Loss : [0.010633227632917722] Val Loss : [0.06717093356353042] Val ACC : [0.9829]\n",
      "cnt:  2\n"
     ]
    },
    {
     "name": "stderr",
     "output_type": "stream",
     "text": [
      "100%|████████████████████████████████████████████████████████████████████████████████| 313/313 [02:55<00:00,  1.78it/s]\n",
      "100%|██████████████████████████████████████████████████████████████████████████████████| 79/79 [00:31<00:00,  2.47it/s]\n"
     ]
    },
    {
     "name": "stdout",
     "output_type": "stream",
     "text": [
      "Epoch : [30] Train Loss : [0.008117317931429772] Val Loss : [0.06142835209184456] Val ACC : [0.9852]\n",
      "cnt:  3\n"
     ]
    },
    {
     "name": "stderr",
     "output_type": "stream",
     "text": [
      "100%|████████████████████████████████████████████████████████████████████████████████| 313/313 [02:55<00:00,  1.78it/s]\n",
      "100%|██████████████████████████████████████████████████████████████████████████████████| 79/79 [00:31<00:00,  2.47it/s]\n"
     ]
    },
    {
     "name": "stdout",
     "output_type": "stream",
     "text": [
      "Epoch : [31] Train Loss : [0.007473624717289504] Val Loss : [0.06098742735775886] Val ACC : [0.9871]\n",
      "cnt:  4\n"
     ]
    },
    {
     "name": "stderr",
     "output_type": "stream",
     "text": [
      "100%|████████████████████████████████████████████████████████████████████████████████| 313/313 [02:55<00:00,  1.78it/s]\n",
      "100%|██████████████████████████████████████████████████████████████████████████████████| 79/79 [00:31<00:00,  2.48it/s]\n"
     ]
    },
    {
     "name": "stdout",
     "output_type": "stream",
     "text": [
      "Epoch : [32] Train Loss : [0.007840291055581823] Val Loss : [0.07006788695536117] Val ACC : [0.9849]\n",
      "cnt:  5\n"
     ]
    },
    {
     "name": "stderr",
     "output_type": "stream",
     "text": [
      "100%|████████████████████████████████████████████████████████████████████████████████| 313/313 [02:56<00:00,  1.78it/s]\n",
      "100%|██████████████████████████████████████████████████████████████████████████████████| 79/79 [00:31<00:00,  2.48it/s]"
     ]
    },
    {
     "name": "stdout",
     "output_type": "stream",
     "text": [
      "Epoch : [33] Train Loss : [0.006463232028919721] Val Loss : [0.06525040377988561] Val ACC : [0.9861]\n",
      "cnt:  6\n"
     ]
    },
    {
     "name": "stderr",
     "output_type": "stream",
     "text": [
      "\n"
     ]
    }
   ],
   "source": [
    "model = Vgg19()\n",
    "model.eval()\n",
    "# optimizer = torch.optim.Adam(params = model.parameters(), lr = CFG[\"LEARNING_RATE\"])\n",
    "optimizer = torch.optim.SGD(params = model.parameters(), lr = CFG[\"LEARNING_RATE\"], momentum=0.9)\n",
    "# scheduler = None\n",
    "scheduler = torch.optim.lr_scheduler.CosineAnnealingLR(optimizer, T_max=100, eta_min=0.001, last_epoch=-1, verbose=False)\n",
    "\n",
    "train(model, optimizer, train_loader, val_loader, scheduler, device)"
   ]
  },
  {
   "cell_type": "markdown",
   "id": "29327b15-d67f-439d-b9e5-e6b97383d750",
   "metadata": {},
   "source": [
    "# 학습 테러 하고 도망치기 키키키키키 "
   ]
  },
  {
   "cell_type": "markdown",
   "id": "f8c9655d-660a-4134-a91e-1152fcee1c6e",
   "metadata": {
    "tags": []
   },
   "source": [
    "## Inference"
   ]
  },
  {
   "cell_type": "code",
   "execution_count": 55,
   "id": "edcaa861-4b12-4ba8-97ce-0c0d5db2b85f",
   "metadata": {},
   "outputs": [],
   "source": [
    "test_df = pd.read_csv('./sample_submission.csv')\n",
    "test_points = h5py.File('./test.h5', 'r')"
   ]
  },
  {
   "cell_type": "code",
   "execution_count": 56,
   "id": "2da9a4bc-8477-48d1-8e05-424fe06e544b",
   "metadata": {},
   "outputs": [],
   "source": [
    "test_dataset = CustomDataset(test_df['ID'].values, None, test_points)\n",
    "test_loader = DataLoader(test_dataset, batch_size=CFG['BATCH_SIZE'], shuffle=False, num_workers=0)"
   ]
  },
  {
   "cell_type": "code",
   "execution_count": 57,
   "id": "a4352c62-cbc2-4d7c-88d7-36051c20a802",
   "metadata": {
    "tags": []
   },
   "outputs": [
    {
     "data": {
      "text/plain": [
       "Vgg19(\n",
       "  (feature_extract): Sequential(\n",
       "    (0): Conv3d(1, 64, kernel_size=(3, 3, 3), stride=(1, 1, 1), padding=(1, 1, 1))\n",
       "    (1): ReLU()\n",
       "    (2): BatchNorm3d(64, eps=1e-05, momentum=0.1, affine=True, track_running_stats=True)\n",
       "    (3): Conv3d(64, 64, kernel_size=(3, 3, 3), stride=(1, 1, 1), padding=(1, 1, 1))\n",
       "    (4): ReLU()\n",
       "    (5): BatchNorm3d(64, eps=1e-05, momentum=0.1, affine=True, track_running_stats=True)\n",
       "    (6): MaxPool3d(kernel_size=2, stride=2, padding=0, dilation=1, ceil_mode=False)\n",
       "    (7): Conv3d(64, 128, kernel_size=(3, 3, 3), stride=(1, 1, 1), padding=(1, 1, 1))\n",
       "    (8): ReLU()\n",
       "    (9): BatchNorm3d(128, eps=1e-05, momentum=0.1, affine=True, track_running_stats=True)\n",
       "    (10): Conv3d(128, 128, kernel_size=(3, 3, 3), stride=(1, 1, 1), padding=(1, 1, 1))\n",
       "    (11): ReLU()\n",
       "    (12): BatchNorm3d(128, eps=1e-05, momentum=0.1, affine=True, track_running_stats=True)\n",
       "    (13): MaxPool3d(kernel_size=2, stride=2, padding=0, dilation=1, ceil_mode=False)\n",
       "    (14): Conv3d(128, 256, kernel_size=(3, 3, 3), stride=(1, 1, 1), padding=(1, 1, 1))\n",
       "    (15): ReLU()\n",
       "    (16): BatchNorm3d(256, eps=1e-05, momentum=0.1, affine=True, track_running_stats=True)\n",
       "    (17): Conv3d(256, 256, kernel_size=(3, 3, 3), stride=(1, 1, 1), padding=(1, 1, 1))\n",
       "    (18): ReLU()\n",
       "    (19): BatchNorm3d(256, eps=1e-05, momentum=0.1, affine=True, track_running_stats=True)\n",
       "    (20): Conv3d(256, 256, kernel_size=(3, 3, 3), stride=(1, 1, 1), padding=(1, 1, 1))\n",
       "    (21): ReLU()\n",
       "    (22): BatchNorm3d(256, eps=1e-05, momentum=0.1, affine=True, track_running_stats=True)\n",
       "    (23): Conv3d(256, 256, kernel_size=(3, 3, 3), stride=(1, 1, 1), padding=(1, 1, 1))\n",
       "    (24): ReLU()\n",
       "    (25): BatchNorm3d(256, eps=1e-05, momentum=0.1, affine=True, track_running_stats=True)\n",
       "    (26): MaxPool3d(kernel_size=2, stride=2, padding=0, dilation=1, ceil_mode=False)\n",
       "    (27): Conv3d(256, 512, kernel_size=(3, 3, 3), stride=(1, 1, 1), padding=(1, 1, 1))\n",
       "    (28): ReLU()\n",
       "    (29): BatchNorm3d(512, eps=1e-05, momentum=0.1, affine=True, track_running_stats=True)\n",
       "    (30): Conv3d(512, 512, kernel_size=(3, 3, 3), stride=(1, 1, 1), padding=(1, 1, 1))\n",
       "    (31): ReLU()\n",
       "    (32): BatchNorm3d(512, eps=1e-05, momentum=0.1, affine=True, track_running_stats=True)\n",
       "    (33): Conv3d(512, 512, kernel_size=(3, 3, 3), stride=(1, 1, 1), padding=(1, 1, 1))\n",
       "    (34): ReLU()\n",
       "    (35): BatchNorm3d(512, eps=1e-05, momentum=0.1, affine=True, track_running_stats=True)\n",
       "    (36): Conv3d(512, 512, kernel_size=(3, 3, 3), stride=(1, 1, 1), padding=(1, 1, 1))\n",
       "    (37): ReLU()\n",
       "    (38): BatchNorm3d(512, eps=1e-05, momentum=0.1, affine=True, track_running_stats=True)\n",
       "    (39): MaxPool3d(kernel_size=2, stride=2, padding=0, dilation=1, ceil_mode=False)\n",
       "  )\n",
       "  (classifier): Sequential(\n",
       "    (0): Dropout(p=0.4, inplace=False)\n",
       "    (1): Linear(in_features=512, out_features=10, bias=True)\n",
       "  )\n",
       ")"
      ]
     },
     "execution_count": 57,
     "metadata": {},
     "output_type": "execute_result"
    }
   ],
   "source": [
    "checkpoint = torch.load('./best_model.pth')\n",
    "model = Vgg19()\n",
    "model.load_state_dict(checkpoint)\n",
    "model.eval()"
   ]
  },
  {
   "cell_type": "code",
   "execution_count": 58,
   "id": "a8198d90-1300-450d-9bf8-3644ad9fc28a",
   "metadata": {},
   "outputs": [],
   "source": [
    "def predict(model, test_loader, device):\n",
    "    model.to(device)\n",
    "    model.eval()\n",
    "    model_preds = []\n",
    "    with torch.no_grad():\n",
    "        for data in tqdm(iter(test_loader)):\n",
    "            data = data.float().to(device)\n",
    "            \n",
    "            batch_pred = model(data)\n",
    "            \n",
    "            model_preds += batch_pred.argmax(1).detach().cpu().numpy().tolist()\n",
    "    \n",
    "    return model_preds"
   ]
  },
  {
   "cell_type": "code",
   "execution_count": 59,
   "id": "6796a32b-35c2-4912-9b8d-152f6390da9c",
   "metadata": {},
   "outputs": [
    {
     "name": "stderr",
     "output_type": "stream",
     "text": [
      "100%|████████████████████████████████████████████████████████████████████████████████| 313/313 [02:39<00:00,  1.96it/s]\n"
     ]
    }
   ],
   "source": [
    "preds = predict(model, test_loader, device)"
   ]
  },
  {
   "cell_type": "markdown",
   "id": "76b62275-1515-4e24-8824-c50a53d343a7",
   "metadata": {},
   "source": [
    "## Submit"
   ]
  },
  {
   "cell_type": "code",
   "execution_count": 60,
   "id": "f4fae968-0d74-4dbb-a6e1-783a62fccaed",
   "metadata": {},
   "outputs": [],
   "source": [
    "test_df['label'] = preds\n",
    "test_df.to_csv('./submit28.csv', index=False)"
   ]
  },
  {
   "cell_type": "code",
   "execution_count": 61,
   "id": "1fbdcbd4-fce4-497e-8d07-af2ef9a67fb6",
   "metadata": {},
   "outputs": [],
   "source": [
    "# from keras.datasets import mnist\n",
    "# import matplotlib.pyplot as plt\n",
    "\n",
    "# plt.plot(model.train_loss['train_loss'])\n",
    "# plt.plot(model.val_loss['val_loss'])\n",
    "# plt.title('model loss')\n",
    "# plt.xlabel('epoch')\n",
    "# plt.ylabel('loss')\n",
    "# plt.legend(['train','val'], loc = 'upper left')\n",
    "# plt.show()"
   ]
  },
  {
   "cell_type": "code",
   "execution_count": 62,
   "id": "f54f36c1-644a-4ce6-959e-53335d8b4f7e",
   "metadata": {},
   "outputs": [],
   "source": [
    "# def get_mean_std(dataset):\n",
    "#     meanRGB = [np.mean(image.numpy(),axis=(1,2)) for image, _ in dataset]\n",
    "#     stdRGB = [np.std(image.numpy(),axis=(1,2)) for image,_ in dataset]\n",
    "    \n",
    "#     meanR = np.mean([m[0] for m in meanRGB])\n",
    "#     meanG = np.mean([m[1] for m in meanRGB])\n",
    "#     meanB = np.mean([m[2] for m in meanRGB])\n",
    "    \n",
    "#     stdR = np.mean([s[0] for s in stdRGB])\n",
    "#     stdG = np.mean([s[1] for s in stdRGB])\n",
    "#     stdB = np.mean([s[2] for s in stdRGB])\n",
    "    \n",
    "#     print(meanR, meanG, meanB)\n",
    "#     print(stdR, stdG, stdB)\n"
   ]
  },
  {
   "cell_type": "code",
   "execution_count": 63,
   "id": "a01d0929-1f00-44ee-8b05-17463137a4f2",
   "metadata": {},
   "outputs": [],
   "source": [
    "# print(meanR, meanG, meanB)\n",
    "# print(stdR, stdG, stdB)"
   ]
  },
  {
   "cell_type": "code",
   "execution_count": 64,
   "id": "c8d2891c-1423-433d-9b83-1c44e9562a36",
   "metadata": {},
   "outputs": [],
   "source": [
    "# import numpy as np\n",
    "\n",
    "# def get_mean_std(dataset):\n",
    "#     meanRGB = [np.mean(x.numpy(), axis=(1,2)) for x,_ in dataset]\n",
    "#     stdRGB = [np.std(x.numpy(), axis=(1,2)) for x,_ in dataset]\n",
    "\n",
    "#     meanR = np.mean([m[0] for m in meanRGB])\n",
    "#     meanG = np.mean([m[1] for m in meanRGB])\n",
    "#     meanB = np.mean([m[2] for m in meanRGB])\n",
    "\n",
    "#     stdR = np.mean([s[0] for s in stdRGB])\n",
    "#     stdG = np.mean([s[1] for s in stdRGB])\n",
    "#     stdB = np.mean([s[2] for s in stdRGB])\n",
    "\n",
    "# print(meanR, meanG, meanB)\n",
    "# print(stdR, stdG, stdB)"
   ]
  },
  {
   "cell_type": "code",
   "execution_count": null,
   "id": "f5e40d30-9b28-4e7f-aa21-036042417daf",
   "metadata": {},
   "outputs": [],
   "source": []
  },
  {
   "cell_type": "code",
   "execution_count": null,
   "id": "9660ddc5-d820-4fc6-b689-b5442936e303",
   "metadata": {},
   "outputs": [],
   "source": []
  }
 ],
 "metadata": {
  "kernelspec": {
   "display_name": "pytorch1",
   "language": "python",
   "name": "pytorch1"
  },
  "language_info": {
   "codemirror_mode": {
    "name": "ipython",
    "version": 3
   },
   "file_extension": ".py",
   "mimetype": "text/x-python",
   "name": "python",
   "nbconvert_exporter": "python",
   "pygments_lexer": "ipython3",
   "version": "3.9.12"
  }
 },
 "nbformat": 4,
 "nbformat_minor": 5
}
