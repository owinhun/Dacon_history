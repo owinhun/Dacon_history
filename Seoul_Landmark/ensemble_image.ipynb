{
 "cells": [
  {
   "cell_type": "code",
   "execution_count": 18,
   "id": "2a4af27f-6e90-4122-ba6d-765009b33c26",
   "metadata": {},
   "outputs": [],
   "source": [
    "import pandas as pd"
   ]
  },
  {
   "cell_type": "code",
   "execution_count": 19,
   "id": "a9bacfc8-b6a0-49db-8164-4cff9a23e010",
   "metadata": {},
   "outputs": [],
   "source": [
    "t1 = pd.read_csv(\"submission7.csv\")\n",
    "t2 = pd.read_csv(\"submission8.csv\")\n",
    "t3 = pd.read_csv(\"submission9.csv\")\n",
    "t4 = pd.read_csv(\"submission10.csv\")\n",
    "t5 = pd.read_csv(\"submission11.csv\")"
   ]
  },
  {
   "cell_type": "code",
   "execution_count": 20,
   "id": "7cf6b9a8-8cdb-4a3d-a3fd-2d6e8a83e400",
   "metadata": {
    "collapsed": true,
    "jupyter": {
     "outputs_hidden": true
    },
    "tags": []
   },
   "outputs": [
    {
     "data": {
      "text/plain": [
       "(    file_name  label\n",
       " 0     001.PNG      7\n",
       " 1     002.PNG      1\n",
       " 2     003.PNG      0\n",
       " 3     004.PNG      7\n",
       " 4     005.PNG      6\n",
       " ..        ...    ...\n",
       " 194   195.PNG      0\n",
       " 195   196.PNG      1\n",
       " 196   197.PNG      1\n",
       " 197   198.PNG      9\n",
       " 198   199.PNG      8\n",
       " \n",
       " [199 rows x 2 columns],\n",
       "     file_name  label\n",
       " 0     001.PNG      7\n",
       " 1     002.PNG      1\n",
       " 2     003.PNG      9\n",
       " 3     004.PNG      7\n",
       " 4     005.PNG      6\n",
       " ..        ...    ...\n",
       " 194   195.PNG      0\n",
       " 195   196.PNG      1\n",
       " 196   197.PNG      1\n",
       " 197   198.PNG      9\n",
       " 198   199.PNG      8\n",
       " \n",
       " [199 rows x 2 columns],\n",
       "     file_name  label\n",
       " 0     001.PNG      7\n",
       " 1     002.PNG      1\n",
       " 2     003.PNG      9\n",
       " 3     004.PNG      7\n",
       " 4     005.PNG      6\n",
       " ..        ...    ...\n",
       " 194   195.PNG      0\n",
       " 195   196.PNG      1\n",
       " 196   197.PNG      1\n",
       " 197   198.PNG      9\n",
       " 198   199.PNG      0\n",
       " \n",
       " [199 rows x 2 columns],\n",
       "     file_name  label\n",
       " 0     001.PNG      7\n",
       " 1     002.PNG      1\n",
       " 2     003.PNG      7\n",
       " 3     004.PNG      7\n",
       " 4     005.PNG      6\n",
       " ..        ...    ...\n",
       " 194   195.PNG      0\n",
       " 195   196.PNG      1\n",
       " 196   197.PNG      1\n",
       " 197   198.PNG      9\n",
       " 198   199.PNG      0\n",
       " \n",
       " [199 rows x 2 columns],\n",
       "     file_name  label\n",
       " 0     001.PNG      7\n",
       " 1     002.PNG      1\n",
       " 2     003.PNG      7\n",
       " 3     004.PNG      7\n",
       " 4     005.PNG      6\n",
       " ..        ...    ...\n",
       " 194   195.PNG      0\n",
       " 195   196.PNG      1\n",
       " 196   197.PNG      1\n",
       " 197   198.PNG      9\n",
       " 198   199.PNG      0\n",
       " \n",
       " [199 rows x 2 columns])"
      ]
     },
     "execution_count": 20,
     "metadata": {},
     "output_type": "execute_result"
    }
   ],
   "source": [
    "t1, t2, t3, t4, t5"
   ]
  },
  {
   "cell_type": "code",
   "execution_count": 21,
   "id": "e0528003-13e1-4b93-b7fa-efa3a97ae0e4",
   "metadata": {},
   "outputs": [
    {
     "name": "stdout",
     "output_type": "stream",
     "text": [
      "199\n"
     ]
    }
   ],
   "source": [
    "import operator\n",
    "result = []\n",
    "for q,w,e,r,t in zip(t1['label'],t2['label'],t3['label'],t4['label'],t5['label']):\n",
    "    \n",
    "    d = dict()\n",
    "    d[q]=0; d[w]=0; d[e]=0;d[r]=0;d[t]=0\n",
    "    d[q]+=1; d[w]+=1; d[e]+=1;d[r]+=1;d[t]+=1\n",
    "    # print(d.__len__())\n",
    "    \n",
    "    \n",
    "    if d.__len__() == 1:\n",
    "        # print(d)\n",
    "        # print(q)\n",
    "        result.append(q)\n",
    "        # pass\n",
    "    elif d.__len__() == 2: #4,1 // 3,2\n",
    "        # print(d)\n",
    "        # print(sorted(d.items(), key=operator.itemgetter(1))[1][0])\n",
    "        result.append(sorted(d.items(), key=operator.itemgetter(1))[-1][0])\n",
    "        # pass\n",
    "    elif d.__len__() == 3:\n",
    "        # print(d)\n",
    "        # print(sorted(d.items(), key=operator.itemgetter(1))[-1][0])\n",
    "        result.append(sorted(d.items(), key=operator.itemgetter(1))[-1][0])\n",
    "        # pass\n",
    "        \n",
    "    elif d.__len__() == 4:\n",
    "        # print(d)\n",
    "        result.append(sorted(d.items(), key=operator.itemgetter(1))[-1][0])\n",
    "        # print(sorted(d.items(), key=operator.itemgetter(1))[-1][0])\n",
    "        # pass\n",
    "    elif d.__len__() == 5:\n",
    "        # print(d)\n",
    "        # # pass\n",
    "        pass\n",
    "    \n",
    "              \n",
    "        # print(d.values())\n",
    "#         111 22 -> {1,2}\n",
    "#         1111 2 -> {1,2}\n",
    "        \n",
    "    \n",
    "#     print(q,w,e,r,t)\n",
    "print(result.__len__())"
   ]
  },
  {
   "cell_type": "code",
   "execution_count": 25,
   "id": "381ad66a-ba27-4d01-9697-0b35b9490b5c",
   "metadata": {},
   "outputs": [
    {
     "name": "stderr",
     "output_type": "stream",
     "text": [
      "C:\\Users\\OH\\AppData\\Local\\Temp\\ipykernel_28388\\2204920034.py:2: SettingWithCopyWarning: \n",
      "A value is trying to be set on a copy of a slice from a DataFrame\n",
      "\n",
      "See the caveats in the documentation: https://pandas.pydata.org/pandas-docs/stable/user_guide/indexing.html#returning-a-view-versus-a-copy\n",
      "  t1['label'][idx] = result[idx]\n"
     ]
    }
   ],
   "source": [
    "for idx in range(t1['label'].shape[0]):\n",
    "    t1['label'][idx] = result[idx]"
   ]
  },
  {
   "cell_type": "code",
   "execution_count": 26,
   "id": "c6dadd37-fd60-41e2-a2d7-0320a957af6c",
   "metadata": {},
   "outputs": [],
   "source": [
    "t1.to_csv(\"ensemble.csv\", index = False)"
   ]
  },
  {
   "cell_type": "code",
   "execution_count": null,
   "id": "9162370d-6186-4c3a-8a8e-ccca6592c288",
   "metadata": {},
   "outputs": [],
   "source": []
  }
 ],
 "metadata": {
  "kernelspec": {
   "display_name": "Python 3 (ipykernel)",
   "language": "python",
   "name": "python3"
  },
  "language_info": {
   "codemirror_mode": {
    "name": "ipython",
    "version": 3
   },
   "file_extension": ".py",
   "mimetype": "text/x-python",
   "name": "python",
   "nbconvert_exporter": "python",
   "pygments_lexer": "ipython3",
   "version": "3.9.12"
  }
 },
 "nbformat": 4,
 "nbformat_minor": 5
}
